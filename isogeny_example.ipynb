{
 "cells": [
  {
   "cell_type": "markdown",
   "metadata": {},
   "source": [
    "# Isogeny Example"
   ]
  },
  {
   "cell_type": "markdown",
   "metadata": {},
   "source": [
    "## Parameters\n",
    "### Choose $p = 2^3 \\times 3^2 - 1 = 71$ and $q = p^2 = 71^2$ . Construct the field $\\mathbb{F}_q$ using $x^2 + 1$ over $\\mathbb{F}_p$. Define the elliptic curve $E : y^2 = x^3 + x$, i.e. $(a,b) = (1,0)$"
   ]
  },
  {
   "cell_type": "code",
   "execution_count": 7,
   "metadata": {},
   "outputs": [
    {
     "name": "stdout",
     "output_type": "stream",
     "text": [
      "E  = Elliptic Curve defined by y^2 = x^3 + x over Finite Field in i of size 71^2\n",
      "#E = 5184\n",
      "jE = 24\n"
     ]
    }
   ],
   "source": [
    "# Define E over Fq\n",
    "# p = 2^3*3^2 - 1 = 71 and q = p^2 = 71^2\n",
    "# i in Fq such that i^2 + 1 = 0\n",
    "p  = 71\n",
    "Fq.<i> = GF(p^2, modulus = x^2+1)\n",
    "E = EllipticCurve(Fq, [1, 0])\n",
    "\n",
    "print \"E  =\", E\n",
    "print \"#E =\", E.cardinality()\n",
    "print \"jE =\", E.j_invariant()"
   ]
  },
  {
   "cell_type": "markdown",
   "metadata": {},
   "source": [
    "## Constuct an isogeny of degree 8\n",
    "### Pick a point $P$ of order $2^3$, and define the isogeny $\\phi$ with $\\ker \\phi = \\langle P \\rangle$"
   ]
  },
  {
   "cell_type": "code",
   "execution_count": 3,
   "metadata": {},
   "outputs": [
    {
     "name": "stdout",
     "output_type": "stream",
     "text": [
      "('P             =', (5*i + 26 : 8*i + 5 : 1))\n",
      "('phi           =', Isogeny of degree 8 from Elliptic Curve defined by y^2 = x^3 + x over Finite Field in i of size 71^2 to Elliptic Curve defined by y^2 = x^3 + 45*i over Finite Field in i of size 71^2)\n",
      "('Domain of phi =', Elliptic Curve defined by y^2 = x^3 + x over Finite Field in i of size 71^2)\n",
      "('Range of phi  =', Elliptic Curve defined by y^2 = x^3 + 45*i over Finite Field in i of size 71^2)\n",
      "('phi(P)        =', (0 : 1 : 0))\n",
      "('Degree of phi =', 8)\n"
     ]
    }
   ],
   "source": [
    "P = E.random_point()\n",
    "while(P.order() != 8):\n",
    "    P = E.random_point()\n",
    "phi = E.isogeny(P)\n",
    "E2  = phi.codomain()\n",
    "\n",
    "print(\"P             =\", P)\n",
    "print(\"phi           =\", phi)\n",
    "print(\"Domain of phi =\", phi.domain())\n",
    "print(\"Range of phi  =\", phi.codomain())\n",
    "print(\"phi(P)        =\", phi(P))\n",
    "print(\"Degree of phi =\", phi.degree())"
   ]
  },
  {
   "cell_type": "markdown",
   "metadata": {},
   "source": [
    "### Check the homomorphism: Does $\\phi(Q) + \\phi(R) = \\phi(Q+R)$ for any points $R, Q$?"
   ]
  },
  {
   "cell_type": "code",
   "execution_count": 4,
   "metadata": {},
   "outputs": [
    {
     "name": "stdout",
     "output_type": "stream",
     "text": [
      "Q             = (27*i + 16 : 34*i + 66 : 1)\n",
      "R             = (33*i + 2 : 27*i + 13 : 1)\n",
      "Q + R         = (68*i + 53 : 22*i + 44 : 1)\n",
      "phi(Q)+phi(R) = (10*i + 32 : 54*i + 58 : 1)\n",
      "phi(Q + R)    = (10*i + 32 : 54*i + 58 : 1)\n",
      "Check?        : True\n"
     ]
    }
   ],
   "source": [
    "Q = E.random_point()\n",
    "R = E.random_point()\n",
    "\n",
    "print \"Q             =\", Q\n",
    "print \"R             =\", R\n",
    "print \"Q + R         =\", Q + R\n",
    "print \"phi(Q)+phi(R) =\", phi(Q) + phi(R)\n",
    "print \"phi(Q + R)    =\", phi(Q+R)\n",
    "print \"Check?        :\", phi(Q) + phi(R) == phi(Q+R)"
   ]
  },
  {
   "cell_type": "markdown",
   "metadata": {},
   "source": [
    "### Another check: The elements which generate the same $\\langle P \\rangle$ should give the same isogeny map.\n",
    "#### Pick another point $Q \\in \\langle P \\rangle$ such that $\\langle Q \\rangle = \\langle P \\rangle$. For e.g., say $Q = 3P$. Actually, any elements $aP$ with $gcd(a, ord(P)) = 1$ generates $\\langle P \\rangle$ as well. "
   ]
  },
  {
   "cell_type": "code",
   "execution_count": 5,
   "metadata": {},
   "outputs": [
    {
     "name": "stdout",
     "output_type": "stream",
     "text": [
      "P             = (5*i + 26 : 8*i + 5 : 1)  of order 8\n",
      "Q             = (5*i + 45 : 66*i + 63 : 1)  of order 8\n",
      "Is <Q> = <P>  : True\n",
      "phi           = Isogeny of degree 8 from Elliptic Curve defined by y^2 = x^3 + x over Finite Field in i of size 71^2 to Elliptic Curve defined by y^2 = x^3 + 45*i over Finite Field in i of size 71^2\n",
      "phi2          = Isogeny of degree 8 from Elliptic Curve defined by y^2 = x^3 + x over Finite Field in i of size 71^2 to Elliptic Curve defined by y^2 = x^3 + 45*i over Finite Field in i of size 71^2\n",
      "Is phi = phi2 : True\n"
     ]
    }
   ],
   "source": [
    "Q = 3*P\n",
    "Pset = Set([i*P for i in range(8)])\n",
    "Qset = Set([i*Q for i in range(8)])\n",
    "phi  = E.isogeny(P)\n",
    "phi2 = E.isogeny(Q)\n",
    "\n",
    "print \"P             =\", P, \" of order\", P.order()\n",
    "print \"Q             =\", Q, \" of order\", Q.order()\n",
    "print \"Is <Q> = <P>  :\", Pset == Qset\n",
    "print \"phi           =\", phi\n",
    "print \"phi2          =\", phi2\n",
    "print \"Is phi = phi2 :\", phi == phi2"
   ]
  },
  {
   "cell_type": "markdown",
   "metadata": {},
   "source": [
    "### Compute a large-degree isogeny: Let $\\ell = 2$ and $e = 3$. Compute the isogeny of degree 8 by using the same point $P$ above. "
   ]
  },
  {
   "cell_type": "code",
   "execution_count": 6,
   "metadata": {
    "scrolled": true
   },
   "outputs": [
    {
     "name": "stdout",
     "output_type": "stream",
     "text": [
      "P      = (5*i + 26 : 8*i + 5 : 1)  of order 8 \n",
      "\n",
      "phi[0] =  Isogeny of degree 2 from Elliptic Curve defined by y^2 = x^3 + x over Finite Field in i of size 71^2 to Elliptic Curve defined by y^2 = x^3 + 11*x + 57*i over Finite Field in i of size 71^2\n",
      "phi[1] =  Isogeny of degree 2 from Elliptic Curve defined by y^2 = x^3 + 11*x + 57*i over Finite Field in i of size 71^2 to Elliptic Curve defined by y^2 = x^3 + 30*x + 31*i over Finite Field in i of size 71^2\n",
      "phi[2] =  Isogeny of degree 2 from Elliptic Curve defined by y^2 = x^3 + 30*x + 31*i over Finite Field in i of size 71^2 to Elliptic Curve defined by y^2 = x^3 + 45*i over Finite Field in i of size 71^2\n",
      "\n",
      "E[0]  = Elliptic Curve defined by y^2 = x^3 + x over Finite Field in i of size 71^2\n",
      "E[1]  = Elliptic Curve defined by y^2 = x^3 + 11*x + 57*i over Finite Field in i of size 71^2\n",
      "E[2]  = Elliptic Curve defined by y^2 = x^3 + 30*x + 31*i over Finite Field in i of size 71^2\n",
      "E[3]  = Elliptic Curve defined by y^2 = x^3 + 45*i over Finite Field in i of size 71^2\n",
      "\n",
      "E_f    = Elliptic Curve defined by y^2 = x^3 + 45*i over Finite Field in i of size 71^2\n",
      "\n",
      "Q           = (18*i + 48 : 19*i + 27 : 1)\n",
      "phi_org(Q)  = (51*i + 36 : 4*i + 63 : 1)\n",
      "phi_new(Q)  = (51*i + 36 : 4*i + 63 : 1)\n"
     ]
    }
   ],
   "source": [
    "print \"P      =\", P, \" of order\", P.order(), \"\\n\"\n",
    "\n",
    "################################################################################\n",
    "# P is a point on the curve E\n",
    "# l is a small number, and the order of P is l^e\n",
    "# Returns (phi0, phi1, ..., phi(e-1)) and the final elliptic curve\n",
    "def isogeny_walk(P,E,l,e):\n",
    "    phi = []\n",
    "    Enext = E\n",
    "    Pnext = P\n",
    "    for i in range(0,e):\n",
    "        #final left edge\n",
    "        Pf = (l^(e-i-1))*Pnext\n",
    "        #next isogeny\n",
    "        phi_next = EllipticCurveIsogeny(Enext,Pf)\n",
    "        Enext = phi_next.codomain()\n",
    "        Pnext = phi_next(Pnext)\n",
    "        phi.append(phi_next)\n",
    "    return (phi,Enext)\n",
    "################################################################################\n",
    "# Compute the new isogeny and the final elliptic curve Ef\n",
    "phi, Ef = isogeny_walk(P,E,2,3)\n",
    "for i in range(len(phi)):\n",
    "    print 'phi['+str(i)+'] = ', phi[i]\n",
    "print \"\"\n",
    "\n",
    "# Print intermediate curves\n",
    "print \"E[0]  =\", phi[0].domain()\n",
    "for i in range(len(phi)):\n",
    "    print 'E['+str(i+1)+']  =', phi[i].codomain()\n",
    "print \"\"\n",
    "\n",
    "# Compare with the original isogeny\n",
    "phi_org = E.isogeny(P)\n",
    "print \"E_f    =\", phi_org.codomain()\n",
    "print \"\"\n",
    "\n",
    "Q = E.random_point()\n",
    "# Compute phi(Q) = phi[2] o phi[1] o phi[0] (Q)\n",
    "Qf = Q\n",
    "for i in range(len(phi)):\n",
    "    Qf = phi[i](Qf)\n",
    "print \"Q           =\", Q\n",
    "print \"phi_org(Q)  =\", phi_org(Q)\n",
    "print \"phi_new(Q)  =\", Qf"
   ]
  }
 ],
 "metadata": {
  "kernelspec": {
   "display_name": "SageMath 8.9",
   "language": "sage",
   "name": "sagemath"
  },
  "language_info": {
   "codemirror_mode": {
    "name": "ipython",
    "version": 2
   },
   "file_extension": ".py",
   "mimetype": "text/x-python",
   "name": "python",
   "nbconvert_exporter": "python",
   "pygments_lexer": "ipython2",
   "version": "2.7.15"
  }
 },
 "nbformat": 4,
 "nbformat_minor": 2
}
