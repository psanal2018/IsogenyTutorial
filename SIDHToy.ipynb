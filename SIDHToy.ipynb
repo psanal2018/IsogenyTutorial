{
 "cells": [
  {
   "cell_type": "markdown",
   "metadata": {},
   "source": [
    "# SIDH Example"
   ]
  },
  {
   "cell_type": "markdown",
   "metadata": {},
   "source": [
    "## Public Parameters"
   ]
  },
  {
   "cell_type": "code",
   "execution_count": 4,
   "metadata": {},
   "outputs": [
    {
     "name": "stdout",
     "output_type": "stream",
     "text": [
      "p = 431 \n",
      "\n",
      "j(E) =  4 \n",
      "\n",
      "#E   =  186624 \n",
      "\n",
      "Pa (222*i + 316 : 127*i + 253 : 1)  of order 16 \n",
      "\n",
      "Qa (53*i + 350 : 19*i + 24 : 1)  of order 16 \n",
      "\n",
      "Pb (159*i + 200 : 325*i + 75 : 1)  of order 27 \n",
      "\n",
      "p = 431 \n",
      "\n",
      "j(E) =  4 \n",
      "\n",
      "#E   =  186624 \n",
      "\n",
      "Pa (222*i + 316 : 127*i + 253 : 1)  of order 16 \n",
      "\n",
      "Qa (53*i + 350 : 19*i + 24 : 1)  of order 16 \n",
      "\n",
      "Pb (159*i + 200 : 325*i + 75 : 1)  of order 27 \n",
      "\n",
      "Qb (133*i + 303 : 384*i + 425 : 1)  of order 27 \n",
      "\n",
      "Qb (133*i + 303 : 384*i + 425 : 1)  of order 27 \n",
      "\n"
     ]
    }
   ],
   "source": [
    "# Define prime p\n",
    "lA, lB, eA, eB, f = 2, 3, 4, 3, 1\n",
    "p = lA^eA * lB^eB * f - 1\n",
    "p = 431\n",
    "# p.is_prime()\n",
    "print \"p =\", p, \"\\n\"\n",
    "\n",
    "# Define the finite field Fp^2\n",
    "_.<I> = GF(p)[]\n",
    "K.<i> = GF(p^2, modulus=I^2+1)\n",
    "\n",
    "# Define the elliptic curve\n",
    "E = EllipticCurve(K, [1, 0])\n",
    "print \"j(E) = \", E.j_invariant(), \"\\n\"\n",
    "print \"#E   = \", E.cardinality(), \"\\n\"\n",
    "\n",
    "# Find Pa, Qa, Pb, Qb\n",
    "Pa = E(0)\n",
    "while (2^(eA-1))*Pa == 0:\n",
    "    Pa = 3^(eB) * E.random_point()\n",
    "Pa = E.point([222*i + 316, 127*i + 253])  #Fixed part    \n",
    "print \"Pa\", Pa, \" of order\", Pa.order(), \"\\n\"\n",
    "\n",
    "Qa = Pa\n",
    "while Pa.weil_pairing(Qa, 2^eA)^(2^(eA-1)) == 1:\n",
    "    Qa = 3^(eB) * E.random_point() \n",
    "Qa = E.point([53*i + 350, 19*i + 24])  #Fixed part        \n",
    "print \"Qa\", Qa, \" of order\", Qa.order(), \"\\n\"\n",
    "\n",
    "Pb = E(0)\n",
    "while (3^(eB-1))*Pb == 0:\n",
    "    Pb = 2^eA * E.random_point()\n",
    "Pb = E.point([159*i + 200, 325*i + 75])  #Fixed part\n",
    "print \"Pb\", Pb, \" of order\", Pb.order(), \"\\n\"\n",
    "Qb = Pb\n",
    "while Pb.weil_pairing(Qb, 3^eB)^(3^(eB-1)) == 1:\n",
    "    Qb = 2^eA * E.random_point()\n",
    "Qb = E.point([133*i + 303, 384*i + 425])  #Fixed part    \n",
    "print \"Qb\", Qb, \" of order\", Qb.order(), \"\\n\""
   ]
  },
  {
   "cell_type": "markdown",
   "metadata": {},
   "source": [
    "## Key Generation"
   ]
  },
  {
   "cell_type": "code",
   "execution_count": 5,
   "metadata": {},
   "outputs": [
    {
     "name": "stdout",
     "output_type": "stream",
     "text": [
      "Alice's Secret Key: \n",
      "\n",
      "Sa = 15\n",
      "Alice's Secret Key: \n",
      "\n",
      "Sa = 15\n",
      "Alice's Public Key:\n",
      "EA = Elliptic Curve defined by y^2 = x^3 + (329*i+128)*x + (68*i+336) over Finite Field in i of size 431^2\n",
      "phiA(Pb) = (360*i + 159 : 340*i + 341 : 1)\n",
      "phiA(Qb) = (109*i + 338 : 152*i + 306 : 1)\n",
      "Bob's Secret Key: \n",
      "\n",
      "Sb = 9\n",
      "Bob's Public Key:\n",
      "EB = Elliptic Curve defined by y^2 = x^3 + (18*i+379)*x + (363*i+385) over Finite Field in i of size 431^2\n",
      "phiB(Pa) = (6*i + 189 : 243*i + 34 : 1)\n",
      "phiB(Qa) = (192*i + 64 : 295*i + 375 : 1)\n",
      "Alice's Public Key:\n",
      "EA = Elliptic Curve defined by y^2 = x^3 + (329*i+128)*x + (68*i+336) over Finite Field in i of size 431^2\n",
      "phiA(Pb) = (360*i + 159 : 340*i + 341 : 1)\n",
      "phiA(Qb) = (109*i + 338 : 152*i + 306 : 1)\n",
      "Bob's Secret Key: \n",
      "\n",
      "Sb = 9\n",
      "Bob's Public Key:\n",
      "EB = Elliptic Curve defined by y^2 = x^3 + (18*i+379)*x + (363*i+385) over Finite Field in i of size 431^2\n",
      "phiB(Pa) = (6*i + 189 : 243*i + 34 : 1)\n",
      "phiB(Qa) = (192*i + 64 : 295*i + 375 : 1)\n"
     ]
    }
   ],
   "source": [
    "# Generate Alice's secret/public key\n",
    "\n",
    "# Sa = randint(0, 2^eA-1)   # Random choice\n",
    "Sa = 15                     # Manually fixed\n",
    "print \"Alice's Secret Key: \\n\"\n",
    "print \"Sa =\", Sa\n",
    "\n",
    "Ra = Pa + Sa * Qa\n",
    "phiA = E.isogeny(Ra)\n",
    "EA, phiA_Pb, phiA_Qb = phiA.codomain(), phiA(Pb), phiA(Qb)\n",
    "print \"Alice's Public Key:\"\n",
    "print \"EA =\", EA\n",
    "print \"phiA(Pb) =\", phiA_Pb\n",
    "print \"phiA(Qb) =\", phiA_Qb\n",
    "\n",
    "\n",
    "\n",
    "# Generate Bob's secret/public key\n",
    "\n",
    "#Sb = randint(0, 3^eB-1)    # Random choice\n",
    "Sb = 9                      # Manually fixed\n",
    "print \"Bob's Secret Key: \\n\"\n",
    "print \"Sb =\", Sb\n",
    "\n",
    "Rb = Pb + Sb * Qb\n",
    "phiB = E.isogeny(Rb)\n",
    "EB, phiB_Pa, phiB_Qa = phiB.codomain(), phiB(Pa), phiB(Qa)\n",
    "print \"Bob's Public Key:\"\n",
    "print \"EB =\", EB\n",
    "print \"phiB(Pa) =\", phiB_Pa\n",
    "print \"phiB(Qa) =\", phiB_Qa"
   ]
  },
  {
   "cell_type": "markdown",
   "metadata": {},
   "source": [
    "# Compute shared secret K"
   ]
  },
  {
   "cell_type": "code",
   "execution_count": 6,
   "metadata": {},
   "outputs": [
    {
     "name": "stdout",
     "output_type": "stream",
     "text": [
      "Alice's shared key is= 222*i + 118\n",
      "Bob's shared key is= 222*i + 118\n",
      "Alice's key == Bob's key : True\n",
      "Alice's shared key is= 222*i + 118\n",
      "Bob's shared key is= 222*i + 118\n",
      "Alice's key == Bob's key : True\n"
     ]
    }
   ],
   "source": [
    "# Alice's computations\n",
    "Ra2   = phiB_Pa + Sa * phiB_Qa\n",
    "phia2 = EB.isogeny(Ra2)\n",
    "Efa   = phia2.codomain()\n",
    "K_Alice = Efa.j_invariant()\n",
    "\n",
    "print \"Alice's shared key is=\", K_Alice\n",
    "\n",
    "# Bob's computations\n",
    "Rb2   = phiA_Pb + Sb * phiA_Qb\n",
    "phib2 = EA.isogeny(Rb2)\n",
    "Efb   = phib2.codomain()\n",
    "K_Bob = Efb.j_invariant()\n",
    "\n",
    "print \"Bob's shared key is=\", K_Bob\n",
    "\n",
    "# Check whether they are equal\n",
    "print \"Alice's key == Bob's key :\", K_Alice == K_Bob"
   ]
  }
 ],
 "metadata": {
  "kernelspec": {
   "display_name": "SageMath 8.9",
   "language": "sage",
   "name": "sagemath"
  },
  "language_info": {
   "codemirror_mode": {
    "name": "ipython",
    "version": 2
   },
   "file_extension": ".py",
   "mimetype": "text/x-python",
   "name": "python",
   "nbconvert_exporter": "python",
   "pygments_lexer": "ipython2",
   "version": "2.7.15"
  }
 },
 "nbformat": 4,
 "nbformat_minor": 4
}
